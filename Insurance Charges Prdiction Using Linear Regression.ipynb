{
 "cells": [
  {
   "cell_type": "markdown",
   "id": "f0fdbbd5",
   "metadata": {},
   "source": [
    "**Insurance Cost Prediction Project**\n",
    "\n",
    "**Project Overview**\n",
    "\n",
    "The Insurance Cost Prediction Project aims to develop a predictive model to estimate the insurance charges for individuals based on a variety of demographic, health, and lifestyle factors. By leveraging a comprehensive dataset, the project seeks to uncover the key drivers of insurance costs and provide actionable insights to optimize premium setting and risk assessment.\n",
    "\n",
    "**Dataset Description**\n",
    "\n",
    "The dataset used in this project contains information about individuals' demographics, health metrics, and insurance charges. The key features in the dataset include:\n",
    "\n",
    "age: The age of the individual.\n",
    "\n",
    "sex: The gender of the individual.\n",
    "\n",
    "bmi: Body Mass Index, a measure of body fat.\n",
    "\n",
    "children: Number of children covered by the insurance.\n",
    "\n",
    "smoker: Smoking status of the individual.\n",
    "\n",
    "Claim_Amount: The total amount claimed by the individual.\n",
    "\n",
    "past_consultations: Number of past medical consultations.\n",
    "\n",
    "num_of_steps: Average number of steps taken daily.\n",
    "\n",
    "Hospital_expenditure: Total hospital expenditure.\n",
    "\n",
    "NUmber_of_past_hospitalizations: Number of past hospitalizations.\n",
    "\n",
    "Anual_Salary: Annual income of the individual.\n",
    "\n",
    "region: Geographic region where the individual resides.\n",
    "\n",
    "charges: The target variable representing the insurance charges.\n",
    "\n",
    "**Objective**\n",
    "\n",
    "The primary objective of this project is to predict the insurance charges for individuals using a linear regression model. The goal is to understand how different factors such as age, BMI, smoking status, and past health history influence the insurance costs.\n",
    "\n"
   ]
  },
  {
   "cell_type": "code",
   "execution_count": 1,
   "id": "00e42797",
   "metadata": {},
   "outputs": [],
   "source": [
    "# Importing necessary libraries\n",
    "import numpy as np               # For numerical computing\n",
    "import pandas as pd              # For data manipulation and analysis\n",
    "import matplotlib.pyplot as plt  # For data visualization\n",
    "import seaborn as sns            # For enhanced data visualization"
   ]
  },
  {
   "cell_type": "code",
   "execution_count": 4,
   "id": "d1817527",
   "metadata": {},
   "outputs": [],
   "source": [
    "# Reading the insurance data from a CSV file\n",
    "insurance = pd.read_csv(\"new_insurance_data.csv\")"
   ]
  },
  {
   "cell_type": "code",
   "execution_count": 5,
   "id": "feb34466",
   "metadata": {},
   "outputs": [
    {
     "data": {
      "text/html": [
       "<div>\n",
       "<style scoped>\n",
       "    .dataframe tbody tr th:only-of-type {\n",
       "        vertical-align: middle;\n",
       "    }\n",
       "\n",
       "    .dataframe tbody tr th {\n",
       "        vertical-align: top;\n",
       "    }\n",
       "\n",
       "    .dataframe thead th {\n",
       "        text-align: right;\n",
       "    }\n",
       "</style>\n",
       "<table border=\"1\" class=\"dataframe\">\n",
       "  <thead>\n",
       "    <tr style=\"text-align: right;\">\n",
       "      <th></th>\n",
       "      <th>age</th>\n",
       "      <th>sex</th>\n",
       "      <th>bmi</th>\n",
       "      <th>children</th>\n",
       "      <th>smoker</th>\n",
       "      <th>Claim_Amount</th>\n",
       "      <th>past_consultations</th>\n",
       "      <th>num_of_steps</th>\n",
       "      <th>Hospital_expenditure</th>\n",
       "      <th>NUmber_of_past_hospitalizations</th>\n",
       "      <th>Anual_Salary</th>\n",
       "      <th>region</th>\n",
       "      <th>charges</th>\n",
       "    </tr>\n",
       "  </thead>\n",
       "  <tbody>\n",
       "    <tr>\n",
       "      <th>0</th>\n",
       "      <td>18.0</td>\n",
       "      <td>male</td>\n",
       "      <td>23.21</td>\n",
       "      <td>0.0</td>\n",
       "      <td>no</td>\n",
       "      <td>29087.54313</td>\n",
       "      <td>17.0</td>\n",
       "      <td>715428.0</td>\n",
       "      <td>4720920.992</td>\n",
       "      <td>0.0</td>\n",
       "      <td>55784970.05</td>\n",
       "      <td>southeast</td>\n",
       "      <td>1121.8739</td>\n",
       "    </tr>\n",
       "    <tr>\n",
       "      <th>1</th>\n",
       "      <td>18.0</td>\n",
       "      <td>male</td>\n",
       "      <td>30.14</td>\n",
       "      <td>0.0</td>\n",
       "      <td>no</td>\n",
       "      <td>39053.67437</td>\n",
       "      <td>7.0</td>\n",
       "      <td>699157.0</td>\n",
       "      <td>4329831.676</td>\n",
       "      <td>0.0</td>\n",
       "      <td>13700885.19</td>\n",
       "      <td>southeast</td>\n",
       "      <td>1131.5066</td>\n",
       "    </tr>\n",
       "    <tr>\n",
       "      <th>2</th>\n",
       "      <td>18.0</td>\n",
       "      <td>male</td>\n",
       "      <td>33.33</td>\n",
       "      <td>0.0</td>\n",
       "      <td>no</td>\n",
       "      <td>39023.62759</td>\n",
       "      <td>19.0</td>\n",
       "      <td>702341.0</td>\n",
       "      <td>6884860.774</td>\n",
       "      <td>0.0</td>\n",
       "      <td>73523107.27</td>\n",
       "      <td>southeast</td>\n",
       "      <td>1135.9407</td>\n",
       "    </tr>\n",
       "    <tr>\n",
       "      <th>3</th>\n",
       "      <td>18.0</td>\n",
       "      <td>male</td>\n",
       "      <td>33.66</td>\n",
       "      <td>0.0</td>\n",
       "      <td>no</td>\n",
       "      <td>28185.39332</td>\n",
       "      <td>11.0</td>\n",
       "      <td>700250.0</td>\n",
       "      <td>4274773.550</td>\n",
       "      <td>0.0</td>\n",
       "      <td>75819679.60</td>\n",
       "      <td>southeast</td>\n",
       "      <td>1136.3994</td>\n",
       "    </tr>\n",
       "    <tr>\n",
       "      <th>4</th>\n",
       "      <td>18.0</td>\n",
       "      <td>male</td>\n",
       "      <td>34.10</td>\n",
       "      <td>0.0</td>\n",
       "      <td>no</td>\n",
       "      <td>14697.85941</td>\n",
       "      <td>16.0</td>\n",
       "      <td>711584.0</td>\n",
       "      <td>3787293.921</td>\n",
       "      <td>0.0</td>\n",
       "      <td>23012320.01</td>\n",
       "      <td>southeast</td>\n",
       "      <td>1137.0110</td>\n",
       "    </tr>\n",
       "  </tbody>\n",
       "</table>\n",
       "</div>"
      ],
      "text/plain": [
       "    age   sex    bmi  children smoker  Claim_Amount  past_consultations  \\\n",
       "0  18.0  male  23.21       0.0     no   29087.54313                17.0   \n",
       "1  18.0  male  30.14       0.0     no   39053.67437                 7.0   \n",
       "2  18.0  male  33.33       0.0     no   39023.62759                19.0   \n",
       "3  18.0  male  33.66       0.0     no   28185.39332                11.0   \n",
       "4  18.0  male  34.10       0.0     no   14697.85941                16.0   \n",
       "\n",
       "   num_of_steps  Hospital_expenditure  NUmber_of_past_hospitalizations  \\\n",
       "0      715428.0           4720920.992                              0.0   \n",
       "1      699157.0           4329831.676                              0.0   \n",
       "2      702341.0           6884860.774                              0.0   \n",
       "3      700250.0           4274773.550                              0.0   \n",
       "4      711584.0           3787293.921                              0.0   \n",
       "\n",
       "   Anual_Salary     region    charges  \n",
       "0   55784970.05  southeast  1121.8739  \n",
       "1   13700885.19  southeast  1131.5066  \n",
       "2   73523107.27  southeast  1135.9407  \n",
       "3   75819679.60  southeast  1136.3994  \n",
       "4   23012320.01  southeast  1137.0110  "
      ]
     },
     "execution_count": 5,
     "metadata": {},
     "output_type": "execute_result"
    }
   ],
   "source": [
    "# Displaying the first five rows of the insurance data\n",
    "insurance.head()"
   ]
  },
  {
   "cell_type": "code",
   "execution_count": 6,
   "id": "af01f46a",
   "metadata": {},
   "outputs": [
    {
     "data": {
      "text/html": [
       "<div>\n",
       "<style scoped>\n",
       "    .dataframe tbody tr th:only-of-type {\n",
       "        vertical-align: middle;\n",
       "    }\n",
       "\n",
       "    .dataframe tbody tr th {\n",
       "        vertical-align: top;\n",
       "    }\n",
       "\n",
       "    .dataframe thead th {\n",
       "        text-align: right;\n",
       "    }\n",
       "</style>\n",
       "<table border=\"1\" class=\"dataframe\">\n",
       "  <thead>\n",
       "    <tr style=\"text-align: right;\">\n",
       "      <th></th>\n",
       "      <th>age</th>\n",
       "      <th>sex</th>\n",
       "      <th>bmi</th>\n",
       "      <th>children</th>\n",
       "      <th>smoker</th>\n",
       "      <th>Claim_Amount</th>\n",
       "      <th>past_consultations</th>\n",
       "      <th>num_of_steps</th>\n",
       "      <th>Hospital_expenditure</th>\n",
       "      <th>NUmber_of_past_hospitalizations</th>\n",
       "      <th>Anual_Salary</th>\n",
       "      <th>region</th>\n",
       "      <th>charges</th>\n",
       "    </tr>\n",
       "  </thead>\n",
       "  <tbody>\n",
       "    <tr>\n",
       "      <th>1333</th>\n",
       "      <td>33.0</td>\n",
       "      <td>female</td>\n",
       "      <td>35.530</td>\n",
       "      <td>0.0</td>\n",
       "      <td>yes</td>\n",
       "      <td>63142.25346</td>\n",
       "      <td>32.0</td>\n",
       "      <td>1091267.0</td>\n",
       "      <td>170380500.5</td>\n",
       "      <td>2.0</td>\n",
       "      <td>3.101107e+09</td>\n",
       "      <td>northwest</td>\n",
       "      <td>55135.40209</td>\n",
       "    </tr>\n",
       "    <tr>\n",
       "      <th>1334</th>\n",
       "      <td>31.0</td>\n",
       "      <td>female</td>\n",
       "      <td>38.095</td>\n",
       "      <td>1.0</td>\n",
       "      <td>yes</td>\n",
       "      <td>43419.95227</td>\n",
       "      <td>31.0</td>\n",
       "      <td>1107872.0</td>\n",
       "      <td>201515184.8</td>\n",
       "      <td>2.0</td>\n",
       "      <td>3.484216e+09</td>\n",
       "      <td>northeast</td>\n",
       "      <td>58571.07448</td>\n",
       "    </tr>\n",
       "    <tr>\n",
       "      <th>1335</th>\n",
       "      <td>52.0</td>\n",
       "      <td>male</td>\n",
       "      <td>34.485</td>\n",
       "      <td>3.0</td>\n",
       "      <td>yes</td>\n",
       "      <td>52458.92353</td>\n",
       "      <td>25.0</td>\n",
       "      <td>1092005.0</td>\n",
       "      <td>223644981.3</td>\n",
       "      <td>2.0</td>\n",
       "      <td>3.640807e+09</td>\n",
       "      <td>northwest</td>\n",
       "      <td>60021.39897</td>\n",
       "    </tr>\n",
       "    <tr>\n",
       "      <th>1336</th>\n",
       "      <td>45.0</td>\n",
       "      <td>male</td>\n",
       "      <td>30.360</td>\n",
       "      <td>0.0</td>\n",
       "      <td>yes</td>\n",
       "      <td>69927.51664</td>\n",
       "      <td>34.0</td>\n",
       "      <td>1106821.0</td>\n",
       "      <td>252892382.6</td>\n",
       "      <td>3.0</td>\n",
       "      <td>4.006359e+09</td>\n",
       "      <td>southeast</td>\n",
       "      <td>62592.87309</td>\n",
       "    </tr>\n",
       "    <tr>\n",
       "      <th>1337</th>\n",
       "      <td>54.0</td>\n",
       "      <td>female</td>\n",
       "      <td>47.410</td>\n",
       "      <td>0.0</td>\n",
       "      <td>yes</td>\n",
       "      <td>63982.80926</td>\n",
       "      <td>31.0</td>\n",
       "      <td>1100328.0</td>\n",
       "      <td>261631699.3</td>\n",
       "      <td>3.0</td>\n",
       "      <td>4.117197e+09</td>\n",
       "      <td>southeast</td>\n",
       "      <td>63770.42801</td>\n",
       "    </tr>\n",
       "  </tbody>\n",
       "</table>\n",
       "</div>"
      ],
      "text/plain": [
       "       age     sex     bmi  children smoker  Claim_Amount  past_consultations  \\\n",
       "1333  33.0  female  35.530       0.0    yes   63142.25346                32.0   \n",
       "1334  31.0  female  38.095       1.0    yes   43419.95227                31.0   \n",
       "1335  52.0    male  34.485       3.0    yes   52458.92353                25.0   \n",
       "1336  45.0    male  30.360       0.0    yes   69927.51664                34.0   \n",
       "1337  54.0  female  47.410       0.0    yes   63982.80926                31.0   \n",
       "\n",
       "      num_of_steps  Hospital_expenditure  NUmber_of_past_hospitalizations  \\\n",
       "1333     1091267.0           170380500.5                              2.0   \n",
       "1334     1107872.0           201515184.8                              2.0   \n",
       "1335     1092005.0           223644981.3                              2.0   \n",
       "1336     1106821.0           252892382.6                              3.0   \n",
       "1337     1100328.0           261631699.3                              3.0   \n",
       "\n",
       "      Anual_Salary     region      charges  \n",
       "1333  3.101107e+09  northwest  55135.40209  \n",
       "1334  3.484216e+09  northeast  58571.07448  \n",
       "1335  3.640807e+09  northwest  60021.39897  \n",
       "1336  4.006359e+09  southeast  62592.87309  \n",
       "1337  4.117197e+09  southeast  63770.42801  "
      ]
     },
     "execution_count": 6,
     "metadata": {},
     "output_type": "execute_result"
    }
   ],
   "source": [
    "# Displaying the last few rows of the insurance data\n",
    "insurance.tail()"
   ]
  },
  {
   "cell_type": "code",
   "execution_count": 7,
   "id": "727b144b",
   "metadata": {},
   "outputs": [
    {
     "data": {
      "text/plain": [
       "Index(['age', 'sex', 'bmi', 'children', 'smoker', 'Claim_Amount',\n",
       "       'past_consultations', 'num_of_steps', 'Hospital_expenditure',\n",
       "       'NUmber_of_past_hospitalizations', 'Anual_Salary', 'region', 'charges'],\n",
       "      dtype='object')"
      ]
     },
     "execution_count": 7,
     "metadata": {},
     "output_type": "execute_result"
    }
   ],
   "source": [
    "# Retrieving the column names of the insurance data\n",
    "insurance.columns"
   ]
  },
  {
   "cell_type": "code",
   "execution_count": 8,
   "id": "f8dc3561",
   "metadata": {},
   "outputs": [
    {
     "data": {
      "text/plain": [
       "(1338, 13)"
      ]
     },
     "execution_count": 8,
     "metadata": {},
     "output_type": "execute_result"
    }
   ],
   "source": [
    "# Retrieving the dimensions of the insurance data (number of rows and columns)\n",
    "insurance.shape"
   ]
  },
  {
   "cell_type": "code",
   "execution_count": 9,
   "id": "2c315fcb",
   "metadata": {},
   "outputs": [
    {
     "name": "stdout",
     "output_type": "stream",
     "text": [
      "<class 'pandas.core.frame.DataFrame'>\n",
      "RangeIndex: 1338 entries, 0 to 1337\n",
      "Data columns (total 13 columns):\n",
      " #   Column                           Non-Null Count  Dtype  \n",
      "---  ------                           --------------  -----  \n",
      " 0   age                              1329 non-null   float64\n",
      " 1   sex                              1338 non-null   object \n",
      " 2   bmi                              1335 non-null   float64\n",
      " 3   children                         1333 non-null   float64\n",
      " 4   smoker                           1338 non-null   object \n",
      " 5   Claim_Amount                     1324 non-null   float64\n",
      " 6   past_consultations               1332 non-null   float64\n",
      " 7   num_of_steps                     1335 non-null   float64\n",
      " 8   Hospital_expenditure             1334 non-null   float64\n",
      " 9   NUmber_of_past_hospitalizations  1336 non-null   float64\n",
      " 10  Anual_Salary                     1332 non-null   float64\n",
      " 11  region                           1338 non-null   object \n",
      " 12  charges                          1338 non-null   float64\n",
      "dtypes: float64(10), object(3)\n",
      "memory usage: 136.0+ KB\n"
     ]
    }
   ],
   "source": [
    "# Displaying concise summary information about the insurance data\n",
    "insurance.info()"
   ]
  },
  {
   "cell_type": "code",
   "execution_count": 10,
   "id": "5dde6e09",
   "metadata": {},
   "outputs": [
    {
     "data": {
      "text/html": [
       "<div>\n",
       "<style scoped>\n",
       "    .dataframe tbody tr th:only-of-type {\n",
       "        vertical-align: middle;\n",
       "    }\n",
       "\n",
       "    .dataframe tbody tr th {\n",
       "        vertical-align: top;\n",
       "    }\n",
       "\n",
       "    .dataframe thead th {\n",
       "        text-align: right;\n",
       "    }\n",
       "</style>\n",
       "<table border=\"1\" class=\"dataframe\">\n",
       "  <thead>\n",
       "    <tr style=\"text-align: right;\">\n",
       "      <th></th>\n",
       "      <th>count</th>\n",
       "      <th>mean</th>\n",
       "      <th>std</th>\n",
       "      <th>min</th>\n",
       "      <th>25%</th>\n",
       "      <th>50%</th>\n",
       "      <th>75%</th>\n",
       "      <th>max</th>\n",
       "    </tr>\n",
       "  </thead>\n",
       "  <tbody>\n",
       "    <tr>\n",
       "      <th>age</th>\n",
       "      <td>1329.0</td>\n",
       "      <td>3.931001e+01</td>\n",
       "      <td>1.403482e+01</td>\n",
       "      <td>1.800000e+01</td>\n",
       "      <td>2.700000e+01</td>\n",
       "      <td>3.900000e+01</td>\n",
       "      <td>5.100000e+01</td>\n",
       "      <td>6.400000e+01</td>\n",
       "    </tr>\n",
       "    <tr>\n",
       "      <th>bmi</th>\n",
       "      <td>1335.0</td>\n",
       "      <td>3.066511e+01</td>\n",
       "      <td>6.101690e+00</td>\n",
       "      <td>1.596000e+01</td>\n",
       "      <td>2.630250e+01</td>\n",
       "      <td>3.040000e+01</td>\n",
       "      <td>3.468750e+01</td>\n",
       "      <td>5.313000e+01</td>\n",
       "    </tr>\n",
       "    <tr>\n",
       "      <th>children</th>\n",
       "      <td>1333.0</td>\n",
       "      <td>1.090773e+00</td>\n",
       "      <td>1.201856e+00</td>\n",
       "      <td>0.000000e+00</td>\n",
       "      <td>0.000000e+00</td>\n",
       "      <td>1.000000e+00</td>\n",
       "      <td>2.000000e+00</td>\n",
       "      <td>5.000000e+00</td>\n",
       "    </tr>\n",
       "    <tr>\n",
       "      <th>Claim_Amount</th>\n",
       "      <td>1324.0</td>\n",
       "      <td>3.336133e+04</td>\n",
       "      <td>1.561729e+04</td>\n",
       "      <td>1.920136e+03</td>\n",
       "      <td>2.076886e+04</td>\n",
       "      <td>3.370031e+04</td>\n",
       "      <td>4.505233e+04</td>\n",
       "      <td>7.727799e+04</td>\n",
       "    </tr>\n",
       "    <tr>\n",
       "      <th>past_consultations</th>\n",
       "      <td>1332.0</td>\n",
       "      <td>1.521622e+01</td>\n",
       "      <td>7.467723e+00</td>\n",
       "      <td>1.000000e+00</td>\n",
       "      <td>9.000000e+00</td>\n",
       "      <td>1.500000e+01</td>\n",
       "      <td>2.000000e+01</td>\n",
       "      <td>4.000000e+01</td>\n",
       "    </tr>\n",
       "    <tr>\n",
       "      <th>num_of_steps</th>\n",
       "      <td>1335.0</td>\n",
       "      <td>9.100047e+05</td>\n",
       "      <td>9.188612e+04</td>\n",
       "      <td>6.954300e+05</td>\n",
       "      <td>8.471995e+05</td>\n",
       "      <td>9.143000e+05</td>\n",
       "      <td>9.716840e+05</td>\n",
       "      <td>1.107872e+06</td>\n",
       "    </tr>\n",
       "    <tr>\n",
       "      <th>Hospital_expenditure</th>\n",
       "      <td>1334.0</td>\n",
       "      <td>1.584179e+07</td>\n",
       "      <td>2.669305e+07</td>\n",
       "      <td>2.945253e+04</td>\n",
       "      <td>4.077633e+06</td>\n",
       "      <td>7.490337e+06</td>\n",
       "      <td>1.084082e+07</td>\n",
       "      <td>2.616317e+08</td>\n",
       "    </tr>\n",
       "    <tr>\n",
       "      <th>NUmber_of_past_hospitalizations</th>\n",
       "      <td>1336.0</td>\n",
       "      <td>1.060629e+00</td>\n",
       "      <td>5.335831e-01</td>\n",
       "      <td>0.000000e+00</td>\n",
       "      <td>1.000000e+00</td>\n",
       "      <td>1.000000e+00</td>\n",
       "      <td>1.000000e+00</td>\n",
       "      <td>3.000000e+00</td>\n",
       "    </tr>\n",
       "    <tr>\n",
       "      <th>Anual_Salary</th>\n",
       "      <td>1332.0</td>\n",
       "      <td>3.696849e+08</td>\n",
       "      <td>5.668843e+08</td>\n",
       "      <td>2.747072e+06</td>\n",
       "      <td>7.701932e+07</td>\n",
       "      <td>1.419361e+08</td>\n",
       "      <td>3.243499e+08</td>\n",
       "      <td>4.117197e+09</td>\n",
       "    </tr>\n",
       "    <tr>\n",
       "      <th>charges</th>\n",
       "      <td>1338.0</td>\n",
       "      <td>1.327042e+04</td>\n",
       "      <td>1.211001e+04</td>\n",
       "      <td>1.121874e+03</td>\n",
       "      <td>4.740287e+03</td>\n",
       "      <td>9.382033e+03</td>\n",
       "      <td>1.663991e+04</td>\n",
       "      <td>6.377043e+04</td>\n",
       "    </tr>\n",
       "  </tbody>\n",
       "</table>\n",
       "</div>"
      ],
      "text/plain": [
       "                                  count          mean           std  \\\n",
       "age                              1329.0  3.931001e+01  1.403482e+01   \n",
       "bmi                              1335.0  3.066511e+01  6.101690e+00   \n",
       "children                         1333.0  1.090773e+00  1.201856e+00   \n",
       "Claim_Amount                     1324.0  3.336133e+04  1.561729e+04   \n",
       "past_consultations               1332.0  1.521622e+01  7.467723e+00   \n",
       "num_of_steps                     1335.0  9.100047e+05  9.188612e+04   \n",
       "Hospital_expenditure             1334.0  1.584179e+07  2.669305e+07   \n",
       "NUmber_of_past_hospitalizations  1336.0  1.060629e+00  5.335831e-01   \n",
       "Anual_Salary                     1332.0  3.696849e+08  5.668843e+08   \n",
       "charges                          1338.0  1.327042e+04  1.211001e+04   \n",
       "\n",
       "                                          min           25%           50%  \\\n",
       "age                              1.800000e+01  2.700000e+01  3.900000e+01   \n",
       "bmi                              1.596000e+01  2.630250e+01  3.040000e+01   \n",
       "children                         0.000000e+00  0.000000e+00  1.000000e+00   \n",
       "Claim_Amount                     1.920136e+03  2.076886e+04  3.370031e+04   \n",
       "past_consultations               1.000000e+00  9.000000e+00  1.500000e+01   \n",
       "num_of_steps                     6.954300e+05  8.471995e+05  9.143000e+05   \n",
       "Hospital_expenditure             2.945253e+04  4.077633e+06  7.490337e+06   \n",
       "NUmber_of_past_hospitalizations  0.000000e+00  1.000000e+00  1.000000e+00   \n",
       "Anual_Salary                     2.747072e+06  7.701932e+07  1.419361e+08   \n",
       "charges                          1.121874e+03  4.740287e+03  9.382033e+03   \n",
       "\n",
       "                                          75%           max  \n",
       "age                              5.100000e+01  6.400000e+01  \n",
       "bmi                              3.468750e+01  5.313000e+01  \n",
       "children                         2.000000e+00  5.000000e+00  \n",
       "Claim_Amount                     4.505233e+04  7.727799e+04  \n",
       "past_consultations               2.000000e+01  4.000000e+01  \n",
       "num_of_steps                     9.716840e+05  1.107872e+06  \n",
       "Hospital_expenditure             1.084082e+07  2.616317e+08  \n",
       "NUmber_of_past_hospitalizations  1.000000e+00  3.000000e+00  \n",
       "Anual_Salary                     3.243499e+08  4.117197e+09  \n",
       "charges                          1.663991e+04  6.377043e+04  "
      ]
     },
     "execution_count": 10,
     "metadata": {},
     "output_type": "execute_result"
    }
   ],
   "source": [
    "# Generating descriptive statistics for the insurance data and transposing the result\n",
    "insurance.describe().T"
   ]
  },
  {
   "cell_type": "markdown",
   "id": "25daebc9",
   "metadata": {},
   "source": [
    "**Exploratory Data Analysis**"
   ]
  },
  {
   "cell_type": "code",
   "execution_count": 11,
   "id": "2f9a52ff",
   "metadata": {},
   "outputs": [
    {
     "data": {
      "text/plain": [
       "age                                 9\n",
       "sex                                 0\n",
       "bmi                                 3\n",
       "children                            5\n",
       "smoker                              0\n",
       "Claim_Amount                       14\n",
       "past_consultations                  6\n",
       "num_of_steps                        3\n",
       "Hospital_expenditure                4\n",
       "NUmber_of_past_hospitalizations     2\n",
       "Anual_Salary                        6\n",
       "region                              0\n",
       "charges                             0\n",
       "dtype: int64"
      ]
     },
     "execution_count": 11,
     "metadata": {},
     "output_type": "execute_result"
    }
   ],
   "source": [
    "# Checking for missing values in the insurance data and summing the null values for each column\n",
    "insurance.isnull().sum()"
   ]
  },
  {
   "cell_type": "code",
   "execution_count": 12,
   "id": "c3ac8a10",
   "metadata": {},
   "outputs": [
    {
     "data": {
      "text/plain": [
       "52"
      ]
     },
     "execution_count": 12,
     "metadata": {},
     "output_type": "execute_result"
    }
   ],
   "source": [
    "# Calculating the total number of missing values in the insurance data\n",
    "insurance.isnull().sum().sum()"
   ]
  },
  {
   "cell_type": "markdown",
   "id": "242fe4ec",
   "metadata": {},
   "source": [
    "**Handling Missing Values in the Dataset to minimizing the bias introduced by missing data.**\n",
    "\n",
    "Missing values will be handled using the following strategies:\n",
    "\n",
    "1.Numerical Columns: Replace missing values with the mean or median of the respective column.\n",
    "\n",
    "2.Categorical Columns (String values):Replace missing values with the mode (most frequent value) of the respective column."
   ]
  },
  {
   "cell_type": "code",
   "execution_count": 13,
   "id": "0f875284",
   "metadata": {},
   "outputs": [],
   "source": [
    "# Creating  a list to run for loop to replace values\n",
    "col=list(insurance.columns)\n",
    "# Computing the null values\n",
    "for i in col:\n",
    "  if insurance[i].dtypes==\"object\":\n",
    "    insurance[i]=insurance[i].fillna(insurance[i].mode()[0])\n",
    "  else:\n",
    "    insurance[i]=insurance[i].fillna(insurance[i].mean())"
   ]
  },
  {
   "cell_type": "code",
   "execution_count": 14,
   "id": "5f1c997c",
   "metadata": {},
   "outputs": [
    {
     "data": {
      "text/plain": [
       "age                                0\n",
       "sex                                0\n",
       "bmi                                0\n",
       "children                           0\n",
       "smoker                             0\n",
       "Claim_Amount                       0\n",
       "past_consultations                 0\n",
       "num_of_steps                       0\n",
       "Hospital_expenditure               0\n",
       "NUmber_of_past_hospitalizations    0\n",
       "Anual_Salary                       0\n",
       "region                             0\n",
       "charges                            0\n",
       "dtype: int64"
      ]
     },
     "execution_count": 14,
     "metadata": {},
     "output_type": "execute_result"
    }
   ],
   "source": [
    "# Check for missing values after computation\n",
    "insurance.isnull().sum()# 0 null values"
   ]
  },
  {
   "cell_type": "code",
   "execution_count": 15,
   "id": "e1378e56",
   "metadata": {},
   "outputs": [
    {
     "data": {
      "image/png": "[encoded data removed]",
      "text/plain": [
       "<Figure size 640x480 with 1 Axes>"
      ]
     },
     "metadata": {},
     "output_type": "display_data"
    },
    {
     "data": {
      "image/png": "[encoded data removed]",
      "text/plain": [
       "<Figure size 640x480 with 1 Axes>"
      ]
     },
     "metadata": {},
     "output_type": "display_data"
    },
    {
     "data": {
      "image/png": "[encoded data removed]",
      "text/plain": [
       "<Figure size 640x480 with 1 Axes>"
      ]
     },
     "metadata": {},
     "output_type": "display_data"
    },
    {
     "data": {
      "image/png": "[encoded data removed]",
      "text/plain": [
       "<Figure size 640x480 with 1 Axes>"
      ]
     },
     "metadata": {},
     "output_type": "display_data"
    },
    {
     "data": {
      "image/png": "[encoded data removed]",
      "text/plain": [
       "<Figure size 640x480 with 1 Axes>"
      ]
     },
     "metadata": {},
     "output_type": "display_data"
    },
    {
     "data": {
      "image/png": "[encoded data removed]",
      "text/plain": [
       "<Figure size 640x480 with 1 Axes>"
      ]
     },
     "metadata": {},
     "output_type": "display_data"
    },
    {
     "data": {
      "image/png": "[encoded data removed]",
      "text/plain": [
       "<Figure size 640x480 with 1 Axes>"
      ]
     },
     "metadata": {},
     "output_type": "display_data"
    },
    {
     "data": {
      "image/png": "[encoded data removed]",
      "text/plain": [
       "<Figure size 640x480 with 1 Axes>"
      ]
     },
     "metadata": {},
     "output_type": "display_data"
    },
    {
     "data": {
      "image/png": "[encoded data removed]",
      "text/plain": [
       "<Figure size 640x480 with 1 Axes>"
      ]
     },
     "metadata": {},
     "output_type": "display_data"
    },
    {
     "data": {
      "image/png": "[encoded data removed]",
      "text/plain": [
       "<Figure size 640x480 with 1 Axes>"
      ]
     },
     "metadata": {},
     "output_type": "display_data"
    }
   ],
   "source": [
    "# Checking  for outliers by drawing box plot of columns data type int64 or float64\n",
    "for i in col:\n",
    "  if insurance[i].dtypes==\"int64\" or insurance[i].dtypes==\"float64\":\n",
    "    plt.boxplot(insurance[i])\n",
    "    plt.xlabel(i)\n",
    "    plt.ylabel(\"Count\")\n",
    "    plt.show()"
   ]
  },
  {
   "cell_type": "markdown",
   "id": "c1108a98",
   "metadata": {},
   "source": [
    "**From the above box plots we can observe that more no of outliers are present in the columns**\n",
    "-bmi\n",
    "-past consyltations\n",
    "-Hospital_Expenditure\n",
    "-Annual_Salary\n",
    "So we are eliminating the outliers using IQR\n",
    "where \n",
    "-interquartile range(IQR) The interquartile range provides a robust measure of variability in a dataset, making it useful for summarizing the spread of the data while minimizing the impact of outliers."
   ]
  },
  {
   "cell_type": "code",
   "execution_count": 16,
   "id": "0269f6ec",
   "metadata": {},
   "outputs": [],
   "source": [
    "#Identifying the outliers by using IQR\n",
    "Q1=insurance.bmi.quantile(0.25)\n",
    "Q3=insurance.bmi.quantile(0.75)\n",
    "IQR=Q3-Q1\n",
    "insurance=insurance[(insurance.bmi >=Q1-1.5*IQR) & (insurance.bmi <=Q3+1.5*IQR)]\n",
    "# LOWER FENCE\n",
    "# Q1-1.5*IQR\n",
    "\n",
    "# UPPER FENCE\n",
    "#Q3+1.5*IQR\n",
    "\n",
    "Q1=insurance.past_consultations.quantile(0.25)\n",
    "Q3=insurance.past_consultations.quantile(0.75)\n",
    "IQR=Q3-Q1\n",
    "insurance=insurance[(insurance.past_consultations >=Q1-1.5*IQR) & (insurance.past_consultations <=Q3+1.5*IQR)]\n",
    "\n",
    "\n",
    "Q1=insurance.Hospital_expenditure.quantile(0.25)\n",
    "Q3=insurance.Hospital_expenditure.quantile(0.75)\n",
    "IQR=Q3-Q1\n",
    "insurance=insurance[(insurance.Hospital_expenditure >=Q1-1.5*IQR) & (insurance.Hospital_expenditure <=Q3+1.5*IQR)]\n",
    "\n",
    "Q1=insurance.Anual_Salary.quantile(0.25)\n",
    "Q3=insurance.Anual_Salary.quantile(0.75)\n",
    "IQR=Q3-Q1\n",
    "insurance=insurance[(insurance.Anual_Salary >=Q1-1.5*IQR) & (insurance.Anual_Salary <=Q3+1.5*IQR)]"
   ]
  },
  {
   "cell_type": "code",
   "execution_count": 17,
   "id": "622262e8",
   "metadata": {},
   "outputs": [
    {
     "data": {
      "text/plain": [
       "(1030, 13)"
      ]
     },
     "execution_count": 17,
     "metadata": {},
     "output_type": "execute_result"
    }
   ],
   "source": [
    "# Inspecting shape of the dataset after outliers elimination\n",
    "insurance.shape"
   ]
  },
  {
   "cell_type": "markdown",
   "id": "f40a6cfc",
   "metadata": {},
   "source": [
    "**Observations after Outlier Elimination**\n",
    "-The number of rows in the dataset before outlier elimination is 1338. -After eliminating outliers, the number of rows in the dataset reduced to 1030. -This indicates that outliers were present in the dataset, and 308 rows were removed during the outlier elimination process"
   ]
  },
  {
   "cell_type": "code",
   "execution_count": 18,
   "id": "1e0fe417",
   "metadata": {},
   "outputs": [
    {
     "name": "stdout",
     "output_type": "stream",
     "text": [
      "                                      age       bmi  children  Claim_Amount  \\\n",
      "age                              1.000000  0.155957  0.045371      0.117750   \n",
      "bmi                              0.155957  1.000000  0.006477      0.008343   \n",
      "children                         0.045371  0.006477  1.000000      0.041716   \n",
      "Claim_Amount                     0.117750  0.008343  0.041716      1.000000   \n",
      "past_consultations               0.172063  0.023543  0.045472      0.071569   \n",
      "num_of_steps                     0.749468  0.040324  0.228830      0.185434   \n",
      "Hospital_expenditure             0.160555  0.013992 -0.007494      0.054111   \n",
      "NUmber_of_past_hospitalizations  0.519538  0.016121  0.316622      0.109748   \n",
      "Anual_Salary                     0.490802  0.004105  0.064840      0.157826   \n",
      "charges                          0.676071  0.010248  0.138470      0.192601   \n",
      "\n",
      "                                 past_consultations  num_of_steps  \\\n",
      "age                                        0.172063      0.749468   \n",
      "bmi                                        0.023543      0.040324   \n",
      "children                                   0.045472      0.228830   \n",
      "Claim_Amount                               0.071569      0.185434   \n",
      "past_consultations                         1.000000      0.259401   \n",
      "num_of_steps                               0.259401      1.000000   \n",
      "Hospital_expenditure                       0.088466      0.299554   \n",
      "NUmber_of_past_hospitalizations            0.135498      0.714983   \n",
      "Anual_Salary                               0.265710      0.767247   \n",
      "charges                                    0.278131      0.936946   \n",
      "\n",
      "                                 Hospital_expenditure  \\\n",
      "age                                          0.160555   \n",
      "bmi                                          0.013992   \n",
      "children                                    -0.007494   \n",
      "Claim_Amount                                 0.054111   \n",
      "past_consultations                           0.088466   \n",
      "num_of_steps                                 0.299554   \n",
      "Hospital_expenditure                         1.000000   \n",
      "NUmber_of_past_hospitalizations              0.129334   \n",
      "Anual_Salary                                 0.366809   \n",
      "charges                                      0.358378   \n",
      "\n",
      "                                 NUmber_of_past_hospitalizations  \\\n",
      "age                                                     0.519538   \n",
      "bmi                                                     0.016121   \n",
      "children                                                0.316622   \n",
      "Claim_Amount                                            0.109748   \n",
      "past_consultations                                      0.135498   \n",
      "num_of_steps                                            0.714983   \n",
      "Hospital_expenditure                                    0.129334   \n",
      "NUmber_of_past_hospitalizations                         1.000000   \n",
      "Anual_Salary                                            0.359422   \n",
      "charges                                                 0.538116   \n",
      "\n",
      "                                 Anual_Salary   charges  \n",
      "age                                  0.490802  0.676071  \n",
      "bmi                                  0.004105  0.010248  \n",
      "children                             0.064840  0.138470  \n",
      "Claim_Amount                         0.157826  0.192601  \n",
      "past_consultations                   0.265710  0.278131  \n",
      "num_of_steps                         0.767247  0.936946  \n",
      "Hospital_expenditure                 0.366809  0.358378  \n",
      "NUmber_of_past_hospitalizations      0.359422  0.538116  \n",
      "Anual_Salary                         1.000000  0.892308  \n",
      "charges                              0.892308  1.000000  \n"
     ]
    }
   ],
   "source": [
    "# Checking for correlation\n",
    "\n",
    "correlation_matrix = insurance.corr(numeric_only=True)\n",
    "\n",
    "# Display correlation matrix\n",
    "print(correlation_matrix)"
   ]
  },
  {
   "cell_type": "code",
   "execution_count": 19,
   "id": "392e98df",
   "metadata": {},
   "outputs": [
    {
     "data": {
      "text/plain": [
       "<Axes: >"
      ]
     },
     "execution_count": 19,
     "metadata": {},
     "output_type": "execute_result"
    },
    {
     "data": {
      "image/png": "[encoded data removed]",
      "text/plain": [
       "<Figure size 2000x1000 with 2 Axes>"
      ]
     },
     "metadata": {},
     "output_type": "display_data"
    }
   ],
   "source": [
    "plt.figure(figsize=(20,10))\n",
    "sns.heatmap(insurance.corr(numeric_only=True),annot=True,cmap='Blues')"
   ]
  },
  {
   "cell_type": "markdown",
   "id": "2e958427",
   "metadata": {},
   "source": [
    "**Top 3 Insights from the above correlation table:**\n",
    "\n",
    "**Charges and Number of Steps**\n",
    "-There is a very strong positive correlation (0.89) between charges and num_of_steps, indicating that higher physical activity is associated with higher medical charges.\n",
    "\n",
    "**Charges and Annual Salary**\n",
    "-There is a strong positive correlation (0.95) between charges and Anual_Salary, suggesting that individuals with higher annual incomes tend to have higher medical charges.\n",
    "\n",
    "**Age and Number of Steps**\n",
    "-There is a moderate positive correlation (0.51) between age and num_of_steps, indicating that older individuals are moderately more active or engaged in tracking their steps"
   ]
  },
  {
   "cell_type": "markdown",
   "id": "9fd1efbb",
   "metadata": {},
   "source": [
    "**Variance Inflation Factor(VIF)**\n",
    "-It is a phenomenon that occurs when two or more independent variables are highy correlated to each other.\n",
    "-To solve the issue of Multicollinearity we are using VIF here, in which columns having high multicollinearity will  be removed"
   ]
  },
  {
   "cell_type": "markdown",
   "id": "82921353",
   "metadata": {},
   "source": [
    "**Variance Inflation Factor(VIF)**\n",
    "-It is a phenomenon that occurs when two or more independent variables are highy correlated to each other.\n",
    "-To solve the issue of Multicollinearity we are using VIF here, in which columns having high multicollinearity will  be removed"
   ]
  },
  {
   "cell_type": "code",
   "execution_count": 20,
   "id": "22218150",
   "metadata": {},
   "outputs": [
    {
     "name": "stdout",
     "output_type": "stream",
     "text": [
      "['age', 'bmi', 'children', 'Claim_Amount', 'past_consultations', 'num_of_steps', 'Hospital_expenditure', 'NUmber_of_past_hospitalizations', 'Anual_Salary']\n",
      "                          Features        VIF\n",
      "0                              age  15.452095\n",
      "1                              bmi  26.330788\n",
      "2                         children   2.029618\n",
      "3                     Claim_Amount   5.678660\n",
      "4               past_consultations   6.258017\n",
      "5                     num_of_steps  61.574692\n",
      "6             Hospital_expenditure   5.204376\n",
      "7  NUmber_of_past_hospitalizations  12.052060\n",
      "8                     Anual_Salary   5.481823\n"
     ]
    }
   ],
   "source": [
    "# Importing Variance inflation factor\n",
    "from statsmodels.stats.outliers_influence import variance_inflation_factor\n",
    "# Creating a list with only numerical columns\n",
    "col_list=[]\n",
    "for i in insurance.columns:\n",
    "  if ((insurance[i].dtype !=\"object\") & (i!=\"charges\")):# VIF is applicable only for numerical columns\n",
    "    col_list.append(i)\n",
    "    \n",
    "print(col_list)\n",
    "\n",
    "# Creating a DataFrame with the columns features and VIF\n",
    "X=insurance[col_list]\n",
    "vif_data=pd.DataFrame() # creaeting an empty dataframe\n",
    "vif_data[\"Features\"]=X.columns\n",
    "vif_data[\"VIF\"]=[variance_inflation_factor(X.values,i) for i in range(len(X.columns))]\n",
    "print(vif_data)"
   ]
  },
  {
   "cell_type": "code",
   "execution_count": 21,
   "id": "b7e41a4f",
   "metadata": {},
   "outputs": [],
   "source": [
    "# Droping the columns with VIF greaterthan 6\n",
    "insurance=insurance.drop([\"num_of_steps\"],axis=1)"
   ]
  },
  {
   "cell_type": "code",
   "execution_count": 22,
   "id": "ab72c6a8",
   "metadata": {},
   "outputs": [
    {
     "name": "stdout",
     "output_type": "stream",
     "text": [
      "                          Features        VIF\n",
      "0                              age  14.484893\n",
      "1                              bmi  12.261123\n",
      "2                         children   2.017441\n",
      "3                     Claim_Amount   5.243640\n",
      "4               past_consultations   5.842169\n",
      "5             Hospital_expenditure   4.929952\n",
      "6  NUmber_of_past_hospitalizations  10.687768\n",
      "7                     Anual_Salary   5.380679\n"
     ]
    }
   ],
   "source": [
    "from statsmodels.stats.outliers_influence import variance_inflation_factor\n",
    "col_list=[]\n",
    "for i in insurance.columns:\n",
    "  if ((insurance[i].dtype !=\"object\") & (i!=\"charges\")):\n",
    "    col_list.append(i)\n",
    "\n",
    "X=insurance[col_list]\n",
    "vif_data=pd.DataFrame() # creaeting an empty dataframe\n",
    "vif_data[\"Features\"]=X.columns\n",
    "vif_data[\"VIF\"]=[variance_inflation_factor(X.values,i) for i in range(len(X.columns))]\n",
    "print(vif_data)"
   ]
  },
  {
   "cell_type": "code",
   "execution_count": 23,
   "id": "3f6c18ef",
   "metadata": {},
   "outputs": [],
   "source": [
    "insurance=insurance.drop([\"age\"],axis=1)"
   ]
  },
  {
   "cell_type": "code",
   "execution_count": 24,
   "id": "56f027cc",
   "metadata": {},
   "outputs": [
    {
     "name": "stdout",
     "output_type": "stream",
     "text": [
      "                          Features        VIF\n",
      "0                              bmi  10.323093\n",
      "1                         children   1.978843\n",
      "2                     Claim_Amount   5.228284\n",
      "3               past_consultations   5.821933\n",
      "4             Hospital_expenditure   4.929287\n",
      "5  NUmber_of_past_hospitalizations   8.310570\n",
      "6                     Anual_Salary   4.723495\n"
     ]
    }
   ],
   "source": [
    "from statsmodels.stats.outliers_influence import variance_inflation_factor\n",
    "col_list=[]\n",
    "for i in insurance.columns:\n",
    "  if ((insurance[i].dtype !=\"object\") & (i!=\"charges\")):\n",
    "    col_list.append(i)\n",
    "\n",
    "X=insurance[col_list]\n",
    "vif_data=pd.DataFrame() # creaeting an empty dataframe\n",
    "vif_data[\"Features\"]=X.columns\n",
    "vif_data[\"VIF\"]=[variance_inflation_factor(X.values,i) for i in range(len(X.columns))]\n",
    "print(vif_data)"
   ]
  },
  {
   "cell_type": "code",
   "execution_count": 25,
   "id": "c892e3a2",
   "metadata": {},
   "outputs": [],
   "source": [
    "insurance=insurance.drop([\"bmi\"],axis=1)"
   ]
  },
  {
   "cell_type": "code",
   "execution_count": 26,
   "id": "ea7d8d0e",
   "metadata": {},
   "outputs": [
    {
     "name": "stdout",
     "output_type": "stream",
     "text": [
      "                          Features       VIF\n",
      "0                         children  1.977037\n",
      "1                     Claim_Amount  4.547332\n",
      "2               past_consultations  5.049165\n",
      "3             Hospital_expenditure  4.492630\n",
      "4  NUmber_of_past_hospitalizations  7.245972\n",
      "5                     Anual_Salary  4.688833\n"
     ]
    }
   ],
   "source": [
    "from statsmodels.stats.outliers_influence import variance_inflation_factor\n",
    "col_list=[]\n",
    "for i in insurance.columns:\n",
    "  if ((insurance[i].dtype !=\"object\") & (i!=\"charges\")):\n",
    "    col_list.append(i)\n",
    "\n",
    "X=insurance[col_list]\n",
    "vif_data=pd.DataFrame() # creaeting an empty dataframe\n",
    "vif_data[\"Features\"]=X.columns\n",
    "vif_data[\"VIF\"]=[variance_inflation_factor(X.values,i) for i in range(len(X.columns))]\n",
    "print(vif_data)"
   ]
  },
  {
   "cell_type": "code",
   "execution_count": 27,
   "id": "2f74940b",
   "metadata": {},
   "outputs": [],
   "source": [
    "insurance=insurance.drop([\"NUmber_of_past_hospitalizations\"],axis=1)"
   ]
  },
  {
   "cell_type": "code",
   "execution_count": 28,
   "id": "67ea13b0",
   "metadata": {},
   "outputs": [
    {
     "name": "stdout",
     "output_type": "stream",
     "text": [
      "               Features       VIF\n",
      "0              children  1.713101\n",
      "1          Claim_Amount  4.152224\n",
      "2    past_consultations  4.670212\n",
      "3  Hospital_expenditure  4.320876\n",
      "4          Anual_Salary  4.279483\n"
     ]
    }
   ],
   "source": [
    "from statsmodels.stats.outliers_influence import variance_inflation_factor\n",
    "col_list=[]\n",
    "for i in insurance.columns:\n",
    "  if ((insurance[i].dtype !=\"object\") & (i!=\"charges\")):\n",
    "    col_list.append(i)\n",
    "\n",
    "X=insurance[col_list]\n",
    "vif_data=pd.DataFrame() # creaeting an empty dataframe\n",
    "vif_data[\"Features\"]=X.columns\n",
    "vif_data[\"VIF\"]=[variance_inflation_factor(X.values,i) for i in range(len(X.columns))]\n",
    "print(vif_data)"
   ]
  },
  {
   "cell_type": "markdown",
   "id": "6d061438",
   "metadata": {},
   "source": [
    "**Model Building**\n",
    "-We choosen the linear regression model here because tha target variable is in the numerical form"
   ]
  },
  {
   "cell_type": "code",
   "execution_count": 29,
   "id": "36b4676a",
   "metadata": {},
   "outputs": [],
   "source": [
    "#Importing linear regression model and train_test_split function \n",
    "from sklearn.linear_model import LinearRegression   # Linear regression model building\n",
    "from sklearn.model_selection import train_test_split # spliting our dataset into training data and testing data"
   ]
  },
  {
   "cell_type": "code",
   "execution_count": 30,
   "id": "9c4515ba",
   "metadata": {},
   "outputs": [],
   "source": [
    "#x=independent variables\n",
    "#y=dependent variable\n",
    "x=insurance.loc[: ,[\"children\",\"Claim_Amount\",\"past_consultations\",\"Hospital_expenditure\",\"Anual_Salary\"]]\n",
    "y=insurance.iloc[: ,-1]"
   ]
  },
  {
   "cell_type": "code",
   "execution_count": 31,
   "id": "002bc8bc",
   "metadata": {},
   "outputs": [
    {
     "data": {
      "text/html": [
       "<div>\n",
       "<style scoped>\n",
       "    .dataframe tbody tr th:only-of-type {\n",
       "        vertical-align: middle;\n",
       "    }\n",
       "\n",
       "    .dataframe tbody tr th {\n",
       "        vertical-align: top;\n",
       "    }\n",
       "\n",
       "    .dataframe thead th {\n",
       "        text-align: right;\n",
       "    }\n",
       "</style>\n",
       "<table border=\"1\" class=\"dataframe\">\n",
       "  <thead>\n",
       "    <tr style=\"text-align: right;\">\n",
       "      <th></th>\n",
       "      <th>children</th>\n",
       "      <th>Claim_Amount</th>\n",
       "      <th>past_consultations</th>\n",
       "      <th>Hospital_expenditure</th>\n",
       "      <th>Anual_Salary</th>\n",
       "    </tr>\n",
       "  </thead>\n",
       "  <tbody>\n",
       "    <tr>\n",
       "      <th>0</th>\n",
       "      <td>0.0</td>\n",
       "      <td>29087.54313</td>\n",
       "      <td>17.0</td>\n",
       "      <td>4.720921e+06</td>\n",
       "      <td>5.578497e+07</td>\n",
       "    </tr>\n",
       "    <tr>\n",
       "      <th>1</th>\n",
       "      <td>0.0</td>\n",
       "      <td>39053.67437</td>\n",
       "      <td>7.0</td>\n",
       "      <td>4.329832e+06</td>\n",
       "      <td>1.370089e+07</td>\n",
       "    </tr>\n",
       "    <tr>\n",
       "      <th>2</th>\n",
       "      <td>0.0</td>\n",
       "      <td>39023.62759</td>\n",
       "      <td>19.0</td>\n",
       "      <td>6.884861e+06</td>\n",
       "      <td>7.352311e+07</td>\n",
       "    </tr>\n",
       "    <tr>\n",
       "      <th>3</th>\n",
       "      <td>0.0</td>\n",
       "      <td>28185.39332</td>\n",
       "      <td>11.0</td>\n",
       "      <td>4.274774e+06</td>\n",
       "      <td>7.581968e+07</td>\n",
       "    </tr>\n",
       "    <tr>\n",
       "      <th>4</th>\n",
       "      <td>0.0</td>\n",
       "      <td>14697.85941</td>\n",
       "      <td>16.0</td>\n",
       "      <td>3.787294e+06</td>\n",
       "      <td>2.301232e+07</td>\n",
       "    </tr>\n",
       "    <tr>\n",
       "      <th>...</th>\n",
       "      <td>...</td>\n",
       "      <td>...</td>\n",
       "      <td>...</td>\n",
       "      <td>...</td>\n",
       "      <td>...</td>\n",
       "    </tr>\n",
       "    <tr>\n",
       "      <th>1046</th>\n",
       "      <td>1.0</td>\n",
       "      <td>51168.25474</td>\n",
       "      <td>23.0</td>\n",
       "      <td>1.665982e+07</td>\n",
       "      <td>3.712188e+08</td>\n",
       "    </tr>\n",
       "    <tr>\n",
       "      <th>1048</th>\n",
       "      <td>3.0</td>\n",
       "      <td>46619.40230</td>\n",
       "      <td>27.0</td>\n",
       "      <td>1.361938e+07</td>\n",
       "      <td>3.812895e+08</td>\n",
       "    </tr>\n",
       "    <tr>\n",
       "      <th>1050</th>\n",
       "      <td>0.0</td>\n",
       "      <td>24382.58056</td>\n",
       "      <td>21.0</td>\n",
       "      <td>1.028991e+07</td>\n",
       "      <td>3.745310e+08</td>\n",
       "    </tr>\n",
       "    <tr>\n",
       "      <th>1062</th>\n",
       "      <td>2.0</td>\n",
       "      <td>21596.43846</td>\n",
       "      <td>10.0</td>\n",
       "      <td>1.083030e+07</td>\n",
       "      <td>3.696849e+08</td>\n",
       "    </tr>\n",
       "    <tr>\n",
       "      <th>1069</th>\n",
       "      <td>0.0</td>\n",
       "      <td>17200.14586</td>\n",
       "      <td>15.0</td>\n",
       "      <td>1.247744e+07</td>\n",
       "      <td>3.696849e+08</td>\n",
       "    </tr>\n",
       "  </tbody>\n",
       "</table>\n",
       "<p>1030 rows × 5 columns</p>\n",
       "</div>"
      ],
      "text/plain": [
       "      children  Claim_Amount  past_consultations  Hospital_expenditure  \\\n",
       "0          0.0   29087.54313                17.0          4.720921e+06   \n",
       "1          0.0   39053.67437                 7.0          4.329832e+06   \n",
       "2          0.0   39023.62759                19.0          6.884861e+06   \n",
       "3          0.0   28185.39332                11.0          4.274774e+06   \n",
       "4          0.0   14697.85941                16.0          3.787294e+06   \n",
       "...        ...           ...                 ...                   ...   \n",
       "1046       1.0   51168.25474                23.0          1.665982e+07   \n",
       "1048       3.0   46619.40230                27.0          1.361938e+07   \n",
       "1050       0.0   24382.58056                21.0          1.028991e+07   \n",
       "1062       2.0   21596.43846                10.0          1.083030e+07   \n",
       "1069       0.0   17200.14586                15.0          1.247744e+07   \n",
       "\n",
       "      Anual_Salary  \n",
       "0     5.578497e+07  \n",
       "1     1.370089e+07  \n",
       "2     7.352311e+07  \n",
       "3     7.581968e+07  \n",
       "4     2.301232e+07  \n",
       "...            ...  \n",
       "1046  3.712188e+08  \n",
       "1048  3.812895e+08  \n",
       "1050  3.745310e+08  \n",
       "1062  3.696849e+08  \n",
       "1069  3.696849e+08  \n",
       "\n",
       "[1030 rows x 5 columns]"
      ]
     },
     "execution_count": 31,
     "metadata": {},
     "output_type": "execute_result"
    }
   ],
   "source": [
    "x"
   ]
  },
  {
   "cell_type": "code",
   "execution_count": 32,
   "id": "7c4666ac",
   "metadata": {},
   "outputs": [
    {
     "data": {
      "text/plain": [
       "0        1121.87390\n",
       "1        1131.50660\n",
       "2        1135.94070\n",
       "3        1136.39940\n",
       "4        1137.01100\n",
       "           ...     \n",
       "1046    19107.77960\n",
       "1048    19199.94400\n",
       "1050    19350.36890\n",
       "1062    19798.05455\n",
       "1069    20234.85475\n",
       "Name: charges, Length: 1030, dtype: float64"
      ]
     },
     "execution_count": 32,
     "metadata": {},
     "output_type": "execute_result"
    }
   ],
   "source": [
    "y"
   ]
  },
  {
   "cell_type": "code",
   "execution_count": 33,
   "id": "dbdf911e",
   "metadata": {},
   "outputs": [],
   "source": [
    "# Splitting  the data into Training data() and Testing data \n",
    "# We are using 80% of the data for the training and 20% of the data for testing\n",
    "x_train ,x_test , y_train , y_test=train_test_split(x,y,train_size=0.8,random_state=0)"
   ]
  },
  {
   "cell_type": "code",
   "execution_count": 34,
   "id": "6bc81807",
   "metadata": {},
   "outputs": [
    {
     "data": {
      "text/html": [
       "<div>\n",
       "<style scoped>\n",
       "    .dataframe tbody tr th:only-of-type {\n",
       "        vertical-align: middle;\n",
       "    }\n",
       "\n",
       "    .dataframe tbody tr th {\n",
       "        vertical-align: top;\n",
       "    }\n",
       "\n",
       "    .dataframe thead th {\n",
       "        text-align: right;\n",
       "    }\n",
       "</style>\n",
       "<table border=\"1\" class=\"dataframe\">\n",
       "  <thead>\n",
       "    <tr style=\"text-align: right;\">\n",
       "      <th></th>\n",
       "      <th>children</th>\n",
       "      <th>Claim_Amount</th>\n",
       "      <th>past_consultations</th>\n",
       "      <th>Hospital_expenditure</th>\n",
       "      <th>Anual_Salary</th>\n",
       "    </tr>\n",
       "  </thead>\n",
       "  <tbody>\n",
       "    <tr>\n",
       "      <th>746</th>\n",
       "      <td>0.0</td>\n",
       "      <td>25238.363470</td>\n",
       "      <td>11.0</td>\n",
       "      <td>2.086869e+06</td>\n",
       "      <td>1.649883e+08</td>\n",
       "    </tr>\n",
       "    <tr>\n",
       "      <th>641</th>\n",
       "      <td>0.0</td>\n",
       "      <td>37222.476360</td>\n",
       "      <td>9.0</td>\n",
       "      <td>6.062378e+06</td>\n",
       "      <td>9.657123e+07</td>\n",
       "    </tr>\n",
       "    <tr>\n",
       "      <th>999</th>\n",
       "      <td>1.0</td>\n",
       "      <td>30825.190070</td>\n",
       "      <td>11.0</td>\n",
       "      <td>5.923489e+06</td>\n",
       "      <td>3.029514e+08</td>\n",
       "    </tr>\n",
       "    <tr>\n",
       "      <th>281</th>\n",
       "      <td>0.0</td>\n",
       "      <td>9560.754493</td>\n",
       "      <td>15.0</td>\n",
       "      <td>3.185350e+06</td>\n",
       "      <td>7.490390e+07</td>\n",
       "    </tr>\n",
       "    <tr>\n",
       "      <th>802</th>\n",
       "      <td>2.0</td>\n",
       "      <td>12992.139950</td>\n",
       "      <td>24.0</td>\n",
       "      <td>4.075903e+06</td>\n",
       "      <td>2.061268e+08</td>\n",
       "    </tr>\n",
       "    <tr>\n",
       "      <th>...</th>\n",
       "      <td>...</td>\n",
       "      <td>...</td>\n",
       "      <td>...</td>\n",
       "      <td>...</td>\n",
       "      <td>...</td>\n",
       "    </tr>\n",
       "    <tr>\n",
       "      <th>279</th>\n",
       "      <td>1.0</td>\n",
       "      <td>20150.675120</td>\n",
       "      <td>9.0</td>\n",
       "      <td>1.747107e+05</td>\n",
       "      <td>6.328892e+07</td>\n",
       "    </tr>\n",
       "    <tr>\n",
       "      <th>768</th>\n",
       "      <td>0.0</td>\n",
       "      <td>9582.708574</td>\n",
       "      <td>11.0</td>\n",
       "      <td>1.046259e+07</td>\n",
       "      <td>1.850292e+08</td>\n",
       "    </tr>\n",
       "    <tr>\n",
       "      <th>841</th>\n",
       "      <td>0.0</td>\n",
       "      <td>31405.793590</td>\n",
       "      <td>12.0</td>\n",
       "      <td>9.380141e+06</td>\n",
       "      <td>2.118739e+08</td>\n",
       "    </tr>\n",
       "    <tr>\n",
       "      <th>561</th>\n",
       "      <td>2.0</td>\n",
       "      <td>9816.604000</td>\n",
       "      <td>12.0</td>\n",
       "      <td>8.134594e+05</td>\n",
       "      <td>1.287152e+08</td>\n",
       "    </tr>\n",
       "    <tr>\n",
       "      <th>688</th>\n",
       "      <td>0.0</td>\n",
       "      <td>55041.113080</td>\n",
       "      <td>16.0</td>\n",
       "      <td>9.347759e+06</td>\n",
       "      <td>1.776668e+08</td>\n",
       "    </tr>\n",
       "  </tbody>\n",
       "</table>\n",
       "<p>824 rows × 5 columns</p>\n",
       "</div>"
      ],
      "text/plain": [
       "     children  Claim_Amount  past_consultations  Hospital_expenditure  \\\n",
       "746       0.0  25238.363470                11.0          2.086869e+06   \n",
       "641       0.0  37222.476360                 9.0          6.062378e+06   \n",
       "999       1.0  30825.190070                11.0          5.923489e+06   \n",
       "281       0.0   9560.754493                15.0          3.185350e+06   \n",
       "802       2.0  12992.139950                24.0          4.075903e+06   \n",
       "..        ...           ...                 ...                   ...   \n",
       "279       1.0  20150.675120                 9.0          1.747107e+05   \n",
       "768       0.0   9582.708574                11.0          1.046259e+07   \n",
       "841       0.0  31405.793590                12.0          9.380141e+06   \n",
       "561       2.0   9816.604000                12.0          8.134594e+05   \n",
       "688       0.0  55041.113080                16.0          9.347759e+06   \n",
       "\n",
       "     Anual_Salary  \n",
       "746  1.649883e+08  \n",
       "641  9.657123e+07  \n",
       "999  3.029514e+08  \n",
       "281  7.490390e+07  \n",
       "802  2.061268e+08  \n",
       "..            ...  \n",
       "279  6.328892e+07  \n",
       "768  1.850292e+08  \n",
       "841  2.118739e+08  \n",
       "561  1.287152e+08  \n",
       "688  1.776668e+08  \n",
       "\n",
       "[824 rows x 5 columns]"
      ]
     },
     "execution_count": 34,
     "metadata": {},
     "output_type": "execute_result"
    }
   ],
   "source": [
    "x_train"
   ]
  },
  {
   "cell_type": "code",
   "execution_count": 35,
   "id": "c96260d2",
   "metadata": {},
   "outputs": [],
   "source": [
    "# Building a Linear Regression model \n",
    "l_model =LinearRegression()"
   ]
  },
  {
   "cell_type": "code",
   "execution_count": 36,
   "id": "3613bb63",
   "metadata": {},
   "outputs": [
    {
     "data": {
      "text/html": [
       "<style>#sk-container-id-1 {color: black;}#sk-container-id-1 pre{padding: 0;}#sk-container-id-1 div.sk-toggleable {background-color: white;}#sk-container-id-1 label.sk-toggleable__label {cursor: pointer;display: block;width: 100%;margin-bottom: 0;padding: 0.3em;box-sizing: border-box;text-align: center;}#sk-container-id-1 label.sk-toggleable__label-arrow:before {content: \"▸\";float: left;margin-right: 0.25em;color: #696969;}#sk-container-id-1 label.sk-toggleable__label-arrow:hover:before {color: black;}#sk-container-id-1 div.sk-estimator:hover label.sk-toggleable__label-arrow:before {color: black;}#sk-container-id-1 div.sk-toggleable__content {max-height: 0;max-width: 0;overflow: hidden;text-align: left;background-color: #f0f8ff;}#sk-container-id-1 div.sk-toggleable__content pre {margin: 0.2em;color: black;border-radius: 0.25em;background-color: #f0f8ff;}#sk-container-id-1 input.sk-toggleable__control:checked~div.sk-toggleable__content {max-height: 200px;max-width: 100%;overflow: auto;}#sk-container-id-1 input.sk-toggleable__control:checked~label.sk-toggleable__label-arrow:before {content: \"▾\";}#sk-container-id-1 div.sk-estimator input.sk-toggleable__control:checked~label.sk-toggleable__label {background-color: #d4ebff;}#sk-container-id-1 div.sk-label input.sk-toggleable__control:checked~label.sk-toggleable__label {background-color: #d4ebff;}#sk-container-id-1 input.sk-hidden--visually {border: 0;clip: rect(1px 1px 1px 1px);clip: rect(1px, 1px, 1px, 1px);height: 1px;margin: -1px;overflow: hidden;padding: 0;position: absolute;width: 1px;}#sk-container-id-1 div.sk-estimator {font-family: monospace;background-color: #f0f8ff;border: 1px dotted black;border-radius: 0.25em;box-sizing: border-box;margin-bottom: 0.5em;}#sk-container-id-1 div.sk-estimator:hover {background-color: #d4ebff;}#sk-container-id-1 div.sk-parallel-item::after {content: \"\";width: 100%;border-bottom: 1px solid gray;flex-grow: 1;}#sk-container-id-1 div.sk-label:hover label.sk-toggleable__label {background-color: #d4ebff;}#sk-container-id-1 div.sk-serial::before {content: \"\";position: absolute;border-left: 1px solid gray;box-sizing: border-box;top: 0;bottom: 0;left: 50%;z-index: 0;}#sk-container-id-1 div.sk-serial {display: flex;flex-direction: column;align-items: center;background-color: white;padding-right: 0.2em;padding-left: 0.2em;position: relative;}#sk-container-id-1 div.sk-item {position: relative;z-index: 1;}#sk-container-id-1 div.sk-parallel {display: flex;align-items: stretch;justify-content: center;background-color: white;position: relative;}#sk-container-id-1 div.sk-item::before, #sk-container-id-1 div.sk-parallel-item::before {content: \"\";position: absolute;border-left: 1px solid gray;box-sizing: border-box;top: 0;bottom: 0;left: 50%;z-index: -1;}#sk-container-id-1 div.sk-parallel-item {display: flex;flex-direction: column;z-index: 1;position: relative;background-color: white;}#sk-container-id-1 div.sk-parallel-item:first-child::after {align-self: flex-end;width: 50%;}#sk-container-id-1 div.sk-parallel-item:last-child::after {align-self: flex-start;width: 50%;}#sk-container-id-1 div.sk-parallel-item:only-child::after {width: 0;}#sk-container-id-1 div.sk-dashed-wrapped {border: 1px dashed gray;margin: 0 0.4em 0.5em 0.4em;box-sizing: border-box;padding-bottom: 0.4em;background-color: white;}#sk-container-id-1 div.sk-label label {font-family: monospace;font-weight: bold;display: inline-block;line-height: 1.2em;}#sk-container-id-1 div.sk-label-container {text-align: center;}#sk-container-id-1 div.sk-container {/* jupyter's `normalize.less` sets `[hidden] { display: none; }` but bootstrap.min.css set `[hidden] { display: none !important; }` so we also need the `!important` here to be able to override the default hidden behavior on the sphinx rendered scikit-learn.org. See: https://github.com/scikit-learn/scikit-learn/issues/21755 */display: inline-block !important;position: relative;}#sk-container-id-1 div.sk-text-repr-fallback {display: none;}</style><div id=\"sk-container-id-1\" class=\"sk-top-container\"><div class=\"sk-text-repr-fallback\"><pre>LinearRegression()</pre><b>In a Jupyter environment, please rerun this cell to show the HTML representation or trust the notebook. <br />On GitHub, the HTML representation is unable to render, please try loading this page with nbviewer.org.</b></div><div class=\"sk-container\" hidden><div class=\"sk-item\"><div class=\"sk-estimator sk-toggleable\"><input class=\"sk-toggleable__control sk-hidden--visually\" id=\"sk-estimator-id-1\" type=\"checkbox\" checked><label for=\"sk-estimator-id-1\" class=\"sk-toggleable__label sk-toggleable__label-arrow\">LinearRegression</label><div class=\"sk-toggleable__content\"><pre>LinearRegression()</pre></div></div></div></div></div>"
      ],
      "text/plain": [
       "LinearRegression()"
      ]
     },
     "execution_count": 36,
     "metadata": {},
     "output_type": "execute_result"
    }
   ],
   "source": [
    "# training the model by fitting the data into the model\n",
    "l_model.fit(x_train ,y_train)\n",
    "\n"
   ]
  },
  {
   "cell_type": "code",
   "execution_count": 37,
   "id": "bfe169dd",
   "metadata": {},
   "outputs": [],
   "source": [
    "# Testing the model with the test set\n",
    "y_pred=l_model.predict(x_test)"
   ]
  },
  {
   "cell_type": "code",
   "execution_count": 38,
   "id": "0364130d",
   "metadata": {},
   "outputs": [
    {
     "data": {
      "text/plain": [
       "array([ 7410.79368292, 10525.46032916,  4225.68186834, 11784.67064226,\n",
       "        9710.44769939,  2920.28422479,  7675.02920953,  3974.0523559 ,\n",
       "        1998.90729711,  1644.33779822,  9355.99422157,  6212.23827285,\n",
       "        7039.69058406,  6913.4106462 ,  7297.05052729,  8116.21854337,\n",
       "        5359.21098612, 11610.94654975, 10731.85265306,  4125.98535048,\n",
       "        4978.27582416,  7076.11959566,  5297.22536169, 10517.54532015,\n",
       "        7970.32302539,  9134.27913297,  3195.07752333,  2030.84851755,\n",
       "        7974.53183189,  6784.2193549 ,  9063.13892275,  9603.83277347,\n",
       "        7310.54589069,  3127.0522965 , 10815.26325584,  6390.86195986,\n",
       "        2959.61224857,  5861.07915274,  8191.7821509 ,  3550.84253838,\n",
       "        2770.66188064,  7533.68996882,  9234.0016588 ,  4599.21923178,\n",
       "        7080.45812909,  6040.26489712,  9148.5945264 ,  9621.34374207,\n",
       "        1845.77904492,  4786.94915212, 10787.39907086, 10725.71531505,\n",
       "       10417.07991619,  4695.22528893,  7214.06291723,  4625.56717867,\n",
       "        7070.97071415,  4832.79229406,  4921.66452359,  5390.73490965,\n",
       "       12157.57282625,  5842.57056697,  5743.69269362,  3322.41361322,\n",
       "        5241.38796182,  5197.03180731, 12653.27365811, 12330.6144721 ,\n",
       "       13146.89736512, 10610.8617498 ,  5343.85665223,  5192.63095826,\n",
       "        2798.50864679,  7021.71170606,  5953.25286473,  7750.53776607,\n",
       "        3695.64413673,  9979.30782227,  9140.15977684,  5668.68647814,\n",
       "        7492.02711473,  5387.23905602,  7223.62153604,  4819.64692756,\n",
       "        5274.28601601,  9500.76335613,  8425.37847893,  6088.46443306,\n",
       "       17382.0811556 ,  4410.38971861,  7681.81845598, 11811.01314019,\n",
       "        2847.58654185,  7149.38115335, 12118.90030745,  5218.18164639,\n",
       "        8498.94921925, 18736.06282217,  8374.18288578, 11761.80964657,\n",
       "        6817.38169362,  7419.06962726,  6943.81378549, 15318.22331686,\n",
       "        4082.35264081,  9967.7891119 ,  4724.73502639,  4982.02483868,\n",
       "        8141.38248821, 15130.76274567,  9988.88380675,  3183.70063997,\n",
       "        9215.91516381,  4274.70522626, 16525.7888001 , 11553.07539794,\n",
       "       12180.44821733, 18729.20706776,  9852.65803543,  5369.12706169,\n",
       "        8091.955761  , 15196.45857583,  5444.20577558,  4079.32115206,\n",
       "       13076.34151516,  7445.10746272, 10830.27714959,  6369.85142805,\n",
       "        4542.9064519 , 11411.14967822,  4709.91345621,  3528.20093323,\n",
       "        3487.87204913, 12257.00243488,  6256.80091317,  5009.68002785,\n",
       "       10089.25495932,  6116.31502397,  8280.4343867 ,  7031.72556366,\n",
       "        9930.75519414,  3817.30935555,  4048.44285506, 11907.05298703,\n",
       "        6686.91692828,  9807.200473  ,  5232.32852199, 10347.06713294,\n",
       "       11601.69659175,  8131.79034823,  5683.70711559, 16387.3848313 ,\n",
       "        5464.06534314,  4244.00545448,  7264.97043063, 17023.64917215,\n",
       "        3260.27395253,  7385.10498572,  3021.55093669,  7859.13012523,\n",
       "        4654.88456063,  9096.8984787 , 14803.62303482,  6155.00653323,\n",
       "       17144.28142724,  2417.39102398,  4006.11079599,  5390.03227281,\n",
       "        1196.76765806, 10475.72412494, 11314.24814601,  7035.90576039,\n",
       "       10439.81357373,  8530.47197745,  4897.20298841,  4789.69132358,\n",
       "       10411.41435708,  6285.14938641,  8396.08173084,  7137.34612038,\n",
       "        7024.10339038, 12696.94870274, 10249.76227982,  5206.9652089 ,\n",
       "        6026.04223447,  6395.0513615 ,  8192.26491728, 19892.85307796,\n",
       "        6797.67843891,  7628.25112572, 10469.76556042,  2429.62894559,\n",
       "       13001.99977   ,  6795.73148931,  7917.71058933,  8232.89888416,\n",
       "       11229.86987183, 11936.16097124,  7674.07424507,  2631.98869906,\n",
       "        8297.23725025,  5781.93758285, 14969.26273667,  4926.60219652,\n",
       "       11617.12721089,  2520.96344643])"
      ]
     },
     "execution_count": 38,
     "metadata": {},
     "output_type": "execute_result"
    }
   ],
   "source": [
    "# Preicted values by the linear regression model\n",
    "y_pred "
   ]
  },
  {
   "cell_type": "code",
   "execution_count": 39,
   "id": "3fc3142b",
   "metadata": {},
   "outputs": [
    {
     "name": "stdout",
     "output_type": "stream",
     "text": [
      "     Actual value  Predicted value\n",
      "752   10704.47000      7410.793683\n",
      "723   10197.77220     10525.460329\n",
      "177    2801.25880      4225.681868\n",
      "834   11848.14100     11784.670642\n",
      "718   10107.22060      9710.447699\n",
      "..            ...              ...\n",
      "627    8688.85885      5781.937583\n",
      "993   16085.12750     14969.262737\n",
      "426    5976.83110      4926.602197\n",
      "895   12925.88600     11617.127211\n",
      "251    3766.88380      2520.963446\n",
      "\n",
      "[206 rows x 2 columns]\n"
     ]
    }
   ],
   "source": [
    "# Now we need to ensure that  whether the predicted values are correct or not\n",
    "\n",
    "# Lets create a table for comparision with columns Actual value and predicted value\n",
    "error_pred=pd.DataFrame(columns=[\"Actual value\",\"Predicted value\"])\n",
    "error_pred[\"Actual value\"]=y_test\n",
    "error_pred[\"Predicted value\"]=y_pred\n",
    "print(error_pred)"
   ]
  },
  {
   "cell_type": "code",
   "execution_count": 40,
   "id": "02f79bc7",
   "metadata": {},
   "outputs": [
    {
     "data": {
      "text/html": [
       "<div>\n",
       "<style scoped>\n",
       "    .dataframe tbody tr th:only-of-type {\n",
       "        vertical-align: middle;\n",
       "    }\n",
       "\n",
       "    .dataframe tbody tr th {\n",
       "        vertical-align: top;\n",
       "    }\n",
       "\n",
       "    .dataframe thead th {\n",
       "        text-align: right;\n",
       "    }\n",
       "</style>\n",
       "<table border=\"1\" class=\"dataframe\">\n",
       "  <thead>\n",
       "    <tr style=\"text-align: right;\">\n",
       "      <th></th>\n",
       "      <th>Actual value</th>\n",
       "      <th>Predicted value</th>\n",
       "      <th>Error</th>\n",
       "    </tr>\n",
       "  </thead>\n",
       "  <tbody>\n",
       "    <tr>\n",
       "      <th>752</th>\n",
       "      <td>10704.47000</td>\n",
       "      <td>7410.793683</td>\n",
       "      <td>3293.676317</td>\n",
       "    </tr>\n",
       "    <tr>\n",
       "      <th>723</th>\n",
       "      <td>10197.77220</td>\n",
       "      <td>10525.460329</td>\n",
       "      <td>-327.688129</td>\n",
       "    </tr>\n",
       "    <tr>\n",
       "      <th>177</th>\n",
       "      <td>2801.25880</td>\n",
       "      <td>4225.681868</td>\n",
       "      <td>-1424.423068</td>\n",
       "    </tr>\n",
       "    <tr>\n",
       "      <th>834</th>\n",
       "      <td>11848.14100</td>\n",
       "      <td>11784.670642</td>\n",
       "      <td>63.470358</td>\n",
       "    </tr>\n",
       "    <tr>\n",
       "      <th>718</th>\n",
       "      <td>10107.22060</td>\n",
       "      <td>9710.447699</td>\n",
       "      <td>396.772901</td>\n",
       "    </tr>\n",
       "    <tr>\n",
       "      <th>...</th>\n",
       "      <td>...</td>\n",
       "      <td>...</td>\n",
       "      <td>...</td>\n",
       "    </tr>\n",
       "    <tr>\n",
       "      <th>627</th>\n",
       "      <td>8688.85885</td>\n",
       "      <td>5781.937583</td>\n",
       "      <td>2906.921267</td>\n",
       "    </tr>\n",
       "    <tr>\n",
       "      <th>993</th>\n",
       "      <td>16085.12750</td>\n",
       "      <td>14969.262737</td>\n",
       "      <td>1115.864763</td>\n",
       "    </tr>\n",
       "    <tr>\n",
       "      <th>426</th>\n",
       "      <td>5976.83110</td>\n",
       "      <td>4926.602197</td>\n",
       "      <td>1050.228903</td>\n",
       "    </tr>\n",
       "    <tr>\n",
       "      <th>895</th>\n",
       "      <td>12925.88600</td>\n",
       "      <td>11617.127211</td>\n",
       "      <td>1308.758789</td>\n",
       "    </tr>\n",
       "    <tr>\n",
       "      <th>251</th>\n",
       "      <td>3766.88380</td>\n",
       "      <td>2520.963446</td>\n",
       "      <td>1245.920354</td>\n",
       "    </tr>\n",
       "  </tbody>\n",
       "</table>\n",
       "<p>206 rows × 3 columns</p>\n",
       "</div>"
      ],
      "text/plain": [
       "     Actual value  Predicted value        Error\n",
       "752   10704.47000      7410.793683  3293.676317\n",
       "723   10197.77220     10525.460329  -327.688129\n",
       "177    2801.25880      4225.681868 -1424.423068\n",
       "834   11848.14100     11784.670642    63.470358\n",
       "718   10107.22060      9710.447699   396.772901\n",
       "..            ...              ...          ...\n",
       "627    8688.85885      5781.937583  2906.921267\n",
       "993   16085.12750     14969.262737  1115.864763\n",
       "426    5976.83110      4926.602197  1050.228903\n",
       "895   12925.88600     11617.127211  1308.758789\n",
       "251    3766.88380      2520.963446  1245.920354\n",
       "\n",
       "[206 rows x 3 columns]"
      ]
     },
     "execution_count": 40,
     "metadata": {},
     "output_type": "execute_result"
    }
   ],
   "source": [
    "# Calculating the error between the actual and predicted values\n",
    "error_pred[\"Error\"]= error_pred[\"Actual value\"] - error_pred[\"Predicted value\"]\n",
    "\n",
    "error_pred"
   ]
  },
  {
   "cell_type": "code",
   "execution_count": 41,
   "id": "b6a46862",
   "metadata": {},
   "outputs": [
    {
     "name": "stdout",
     "output_type": "stream",
     "text": [
      "0.843600340963785\n"
     ]
    }
   ],
   "source": [
    "# Calculating the model performance by using r2_score\n",
    "\n",
    "from sklearn.metrics import *\n",
    "performance_of_the_model= r2_score(y_test,y_pred)\n",
    "print(performance_of_the_model)"
   ]
  },
  {
   "cell_type": "markdown",
   "id": "f6b50742",
   "metadata": {},
   "source": [
    "**An R² score of 84.36% is a strong indicator that linear regression model is performing well.**"
   ]
  },
  {
   "cell_type": "code",
   "execution_count": 42,
   "id": "f6f8e3e0",
   "metadata": {},
   "outputs": [],
   "source": [
    "import pickle\n",
    "\n",
    "# Saving the trained model to a pickle file\n",
    "with open('linear_regression_model.pkl', 'wb') as file:\n",
    "    pickle.dump(l_model, file)"
   ]
  },
  {
   "cell_type": "code",
   "execution_count": 43,
   "id": "428c8984",
   "metadata": {},
   "outputs": [
    {
     "name": "stdout",
     "output_type": "stream",
     "text": [
      "Prediction: [ 7410.79368292 10525.46032916  4225.68186834 11784.67064226\n",
      "  9710.44769939  2920.28422479  7675.02920953  3974.0523559\n",
      "  1998.90729711  1644.33779822  9355.99422157  6212.23827285\n",
      "  7039.69058406  6913.4106462   7297.05052729  8116.21854337\n",
      "  5359.21098612 11610.94654975 10731.85265306  4125.98535048\n",
      "  4978.27582416  7076.11959566  5297.22536169 10517.54532015\n",
      "  7970.32302539  9134.27913297  3195.07752333  2030.84851755\n",
      "  7974.53183189  6784.2193549   9063.13892275  9603.83277347\n",
      "  7310.54589069  3127.0522965  10815.26325584  6390.86195986\n",
      "  2959.61224857  5861.07915274  8191.7821509   3550.84253838\n",
      "  2770.66188064  7533.68996882  9234.0016588   4599.21923178\n",
      "  7080.45812909  6040.26489712  9148.5945264   9621.34374207\n",
      "  1845.77904492  4786.94915212 10787.39907086 10725.71531505\n",
      " 10417.07991619  4695.22528893  7214.06291723  4625.56717867\n",
      "  7070.97071415  4832.79229406  4921.66452359  5390.73490965\n",
      " 12157.57282625  5842.57056697  5743.69269362  3322.41361322\n",
      "  5241.38796182  5197.03180731 12653.27365811 12330.6144721\n",
      " 13146.89736512 10610.8617498   5343.85665223  5192.63095826\n",
      "  2798.50864679  7021.71170606  5953.25286473  7750.53776607\n",
      "  3695.64413673  9979.30782227  9140.15977684  5668.68647814\n",
      "  7492.02711473  5387.23905602  7223.62153604  4819.64692756\n",
      "  5274.28601601  9500.76335613  8425.37847893  6088.46443306\n",
      " 17382.0811556   4410.38971861  7681.81845598 11811.01314019\n",
      "  2847.58654185  7149.38115335 12118.90030745  5218.18164639\n",
      "  8498.94921925 18736.06282217  8374.18288578 11761.80964657\n",
      "  6817.38169362  7419.06962726  6943.81378549 15318.22331686\n",
      "  4082.35264081  9967.7891119   4724.73502639  4982.02483868\n",
      "  8141.38248821 15130.76274567  9988.88380675  3183.70063997\n",
      "  9215.91516381  4274.70522626 16525.7888001  11553.07539794\n",
      " 12180.44821733 18729.20706776  9852.65803543  5369.12706169\n",
      "  8091.955761   15196.45857583  5444.20577558  4079.32115206\n",
      " 13076.34151516  7445.10746272 10830.27714959  6369.85142805\n",
      "  4542.9064519  11411.14967822  4709.91345621  3528.20093323\n",
      "  3487.87204913 12257.00243488  6256.80091317  5009.68002785\n",
      " 10089.25495932  6116.31502397  8280.4343867   7031.72556366\n",
      "  9930.75519414  3817.30935555  4048.44285506 11907.05298703\n",
      "  6686.91692828  9807.200473    5232.32852199 10347.06713294\n",
      " 11601.69659175  8131.79034823  5683.70711559 16387.3848313\n",
      "  5464.06534314  4244.00545448  7264.97043063 17023.64917215\n",
      "  3260.27395253  7385.10498572  3021.55093669  7859.13012523\n",
      "  4654.88456063  9096.8984787  14803.62303482  6155.00653323\n",
      " 17144.28142724  2417.39102398  4006.11079599  5390.03227281\n",
      "  1196.76765806 10475.72412494 11314.24814601  7035.90576039\n",
      " 10439.81357373  8530.47197745  4897.20298841  4789.69132358\n",
      " 10411.41435708  6285.14938641  8396.08173084  7137.34612038\n",
      "  7024.10339038 12696.94870274 10249.76227982  5206.9652089\n",
      "  6026.04223447  6395.0513615   8192.26491728 19892.85307796\n",
      "  6797.67843891  7628.25112572 10469.76556042  2429.62894559\n",
      " 13001.99977     6795.73148931  7917.71058933  8232.89888416\n",
      " 11229.86987183 11936.16097124  7674.07424507  2631.98869906\n",
      "  8297.23725025  5781.93758285 14969.26273667  4926.60219652\n",
      " 11617.12721089  2520.96344643]\n"
     ]
    }
   ],
   "source": [
    "import pickle\n",
    "import numpy as np\n",
    "\n",
    "# Load the model\n",
    "with open('linear_regression_model.pkl', 'rb') as file:\n",
    "    loaded_model = pickle.load(file)\n",
    "\n",
    "# Make a prediction\n",
    "prediction = loaded_model.predict(x_test)\n",
    "print(\"Prediction:\", prediction)"
   ]
  },
  {
   "cell_type": "code",
   "execution_count": null,
   "id": "07f3e551",
   "metadata": {},
   "outputs": [],
   "source": []
  }
 ],
 "metadata": {
  "kernelspec": {
   "display_name": "Python 3 (ipykernel)",
   "language": "python",
   "name": "python3"
  },
  "language_info": {
   "codemirror_mode": {
    "name": "ipython",
    "version": 3
   },
   "file_extension": ".py",
   "mimetype": "text/x-python",
   "name": "python",
   "nbconvert_exporter": "python",
   "pygments_lexer": "ipython3",
   "version": "3.11.5"
  }
 },
 "nbformat": 4,
 "nbformat_minor": 5
}
